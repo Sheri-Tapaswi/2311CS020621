{
 "cells": [
  {
   "cell_type": "code",
   "execution_count": null,
   "id": "83fe77a5-54ab-4d64-923a-90619be3014d",
   "metadata": {},
   "outputs": [],
   "source": [
    "# Taking input for marks in three subjects\n",
    "subject_1 = float(input(\"Enter marks for subject 1: \"))\n",
    "subject_2 = float(input(\"Enter marks for subject 2: \"))\n",
    "subject_3 = float(input(\"Enter marks for subject 3: \"))\n",
    "\n",
    "# Calculating the average marks\n",
    "average = (subject_1 + subject_2 + subject_3) / 3\n",
    "\n",
    "# Determining the grade based on the average\n",
    "if average >= 90:\n",
    "    print(\"Grade: A\")\n",
    "elif 80 <= average < 90:\n",
    "    print(\"Grade: B\")\n",
    "elif 70 <= average < 80:\n",
    "    print(\"Grade: C\")\n",
    "else:\n",
    "    print(\"Grade: Fail\")\n"
   ]
  },
  {
   "cell_type": "code",
   "execution_count": null,
   "id": "68f22ced-ba4b-4274-9447-205594b5b9f5",
   "metadata": {},
   "outputs": [],
   "source": []
  }
 ],
 "metadata": {
  "kernelspec": {
   "display_name": "Python [conda env:base] *",
   "language": "python",
   "name": "conda-base-py"
  },
  "language_info": {
   "codemirror_mode": {
    "name": "ipython",
    "version": 3
   },
   "file_extension": ".py",
   "mimetype": "text/x-python",
   "name": "python",
   "nbconvert_exporter": "python",
   "pygments_lexer": "ipython3",
   "version": "3.12.7"
  }
 },
 "nbformat": 4,
 "nbformat_minor": 5
}
