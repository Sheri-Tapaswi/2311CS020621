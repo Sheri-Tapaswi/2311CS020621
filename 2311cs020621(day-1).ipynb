{
 "cells": [
  {
   "cell_type": "code",
   "execution_count": 3,
   "id": "9ce224f3-c791-4203-9967-0a94137f8180",
   "metadata": {},
   "outputs": [],
   "source": [
    "\n",
    "my_list = [10, 20, 30, 40, 50]\n",
    "first_element = my_list[0]  \n",
    "third_element = my_list[2]  \n",
    "last_element = my_list[-1]  \n",
    "slice_elements = my_list[1:4]  \n"
   ]
  },
  {
   "cell_type": "code",
   "execution_count": 5,
   "id": "4905c380-e17b-45fc-ac79-f1d73f5e9871",
   "metadata": {},
   "outputs": [],
   "source": [
    "my_list = [10, 20, 30, 40, 50]\n",
    "first_element = my_list[0]  \n",
    "third_element = my_list[2]  \n",
    "last_element = my_list[-1]  \n",
    "slice_elements = my_list[1:4]  "
   ]
  },
  {
   "cell_type": "code",
   "execution_count": null,
   "id": "b4c9ed24-5b6d-45f7-a07e-1d3bb6ec249c",
   "metadata": {},
   "outputs": [],
   "source": []
  },
  {
   "cell_type": "code",
   "execution_count": null,
   "id": "58bdf8c2-92c0-440c-b085-273037ea9219",
   "metadata": {},
   "outputs": [],
   "source": []
  }
 ],
 "metadata": {
  "kernelspec": {
   "display_name": "Python [conda env:base] *",
   "language": "python",
   "name": "conda-base-py"
  },
  "language_info": {
   "codemirror_mode": {
    "name": "ipython",
    "version": 3
   },
   "file_extension": ".py",
   "mimetype": "text/x-python",
   "name": "python",
   "nbconvert_exporter": "python",
   "pygments_lexer": "ipython3",
   "version": "3.12.7"
  }
 },
 "nbformat": 4,
 "nbformat_minor": 5
}
